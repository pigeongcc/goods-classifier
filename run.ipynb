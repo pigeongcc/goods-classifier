{
 "cells": [
  {
   "cell_type": "code",
   "execution_count": 17,
   "metadata": {
    "collapsed": true
   },
   "outputs": [],
   "source": [
    "from dataframe_builder import DataframeBuilder\n",
    "from model import Model\n",
    "import pandas as pd"
   ]
  },
  {
   "cell_type": "markdown",
   "source": [
    "Архив содержит 2 класса: DataframeBuilder и Model."
   ],
   "metadata": {
    "collapsed": false
   },
   "outputs": []
  },
  {
   "cell_type": "markdown",
   "source": [
    "# DataframeBuilder"
   ],
   "metadata": {
    "collapsed": false
   }
  },
  {
   "cell_type": "markdown",
   "source": [
    "Функционал DataframeBuilder:\n",
    "\n",
    "1. *Создание датафрейма, на котором сможет обучиться модель.*\n",
    "- Можно создать стратифицированный датасет. Параметр - количество товаров на выходе.\n",
    "- Можно создать сбалансированный. Параметры: min и max количество товаров на каждый класс. Если класс содержит < min товаров, он не будет включен в датасет. Если класс содержит > max товаров, только max товаров будут включены в датасет.\n",
    "\n",
    "2*Взятие выборки неразмеченных товаров.*\n",
    "- Можно взять случайные n товаров без меток из products.csv.\n",
    "- Можно подать на вход ID товаров без меток из products.csv."
   ],
   "metadata": {
    "collapsed": false
   }
  },
  {
   "cell_type": "markdown",
   "source": [
    "Тип баланса классов указываем при инициализации:"
   ],
   "metadata": {
    "collapsed": false
   }
  },
  {
   "cell_type": "code",
   "execution_count": 18,
   "outputs": [],
   "source": [
    "dfb_stratified = DataframeBuilder(\n",
    "    class_balance_type=\"stratified\",\n",
    "    stratified_num_of_examples=125000,\n",
    "    stratified_drop_threshold=2\n",
    ")\n",
    "\n",
    "dfb = DataframeBuilder(\n",
    "    class_balance_type=\"balanced\",\n",
    "    balanced_min_examples_per_class=20,\n",
    "    balanced_max_examples_per_class=200\n",
    ")\n"
   ],
   "metadata": {
    "collapsed": false
   }
  },
  {
   "cell_type": "markdown",
   "source": [
    "В этом примере обучим модель на стратифицированном датасете.\n",
    "build() сохранит датафрейм по указанному пути"
   ],
   "metadata": {
    "collapsed": false
   }
  },
  {
   "cell_type": "code",
   "execution_count": 19,
   "outputs": [
    {
     "name": "stderr",
     "output_type": "stream",
     "text": [
      "/home/pigeon_gcc/Desktop/gisp_classifier/inference/dataframe_builder.py:20: DtypeWarning: Columns (3,5,6,7,8,11,12,13,14,15,16,17,18,19,20,21,22,23,24,25,26) have mixed types. Specify dtype option on import or set low_memory=False.\n",
      "  df = pd.read_csv(path_to_csv, index_col=index_col)\n"
     ]
    }
   ],
   "source": [
    "dfb.build(output_path=\"data/df.csv\")"
   ],
   "metadata": {
    "collapsed": false
   }
  },
  {
   "cell_type": "markdown",
   "source": [
    "Прочитаем полученный файл.\n",
    "\n",
    "И обрежем его, чтобы влезло по памяти на gpu (todo батчи)."
   ],
   "metadata": {
    "collapsed": false
   }
  },
  {
   "cell_type": "code",
   "execution_count": 20,
   "outputs": [
    {
     "data": {
      "text/plain": "                                                      name  \\\n206153                      Кабель ККЗ МК ВЭмКВ(г) 11*1,0м   \n241986               Кабель ККЗ МК ВЭКВнг(А)-FRLS 6*2*0,50   \n163475                      Кабель ПвВнг(B) 1*800мк/150-10   \n304783                  Кабель КМПвВЭнг(А)-FRLS 10*1,0-500   \n169140                   Кабель ПвВнг(B)-LS 1*500мк/120-20   \n...                                                    ...   \n2407209     Лоток вертикальный ФАВОРИТ тонированный  серый   \n2407241     Лоток вертикальный ТРОПИК  тонированный  серый   \n2668336  Лоток для бумаг вертикальный \"Line\", сборный, ...   \n2668332  Лоток для бумаг вертикальный \"Line\", сборный, ...   \n2668384  Лоток для бумаг вертикальный, сборный, 5 отдел...   \n\n                                                     descr         okpd2  \\\n206153                                    Кабели монтажные  27.32.13.191   \n241986                                    Кабели монтажные  27.32.13.191   \n163475   Кабели силовые для стационарной прокладки на н...  27.32.14.110   \n304783                                   Кабели управления  27.32.13.141   \n169140   Кабели силовые для стационарной прокладки на н...  27.32.14.110   \n...                                                    ...           ...   \n2407209  Лоток вертикальный для документации формата А4...  22.29.25.000   \n2407241  Лоток вертикальный для документации формата А4...  22.29.25.000   \n2668336  Лоток сборный 4 отделения для документации фор...  22.29.25.000   \n2668332  Лоток вертикальный для хранения документации ф...  22.29.25.000   \n2668384  Вертикальный лоток с пятью секциями для докуме...  22.29.25.000   \n\n                                                okpd2_name  \\\n206153                                    Кабели монтажные   \n241986                                    Кабели монтажные   \n163475   Кабели силовые для стационарной прокладки на н...   \n304783                                   Кабели управления   \n169140   Кабели силовые для стационарной прокладки на н...   \n...                                                    ...   \n2407209  Принадлежности канцелярские или школьные пласт...   \n2407241  Принадлежности канцелярские или школьные пласт...   \n2668336  Принадлежности канцелярские или школьные пласт...   \n2668332  Принадлежности канцелярские или школьные пласт...   \n2668384  Принадлежности канцелярские или школьные пласт...   \n\n                          ktru  \\\n206153   27.32.10.000-00000001   \n241986   27.32.10.000-00000001   \n163475   27.32.10.000-00000001   \n304783   27.32.10.000-00000001   \n169140   27.32.10.000-00000001   \n...                        ...   \n2407209  22.29.25.000-00000014   \n2407241  22.29.25.000-00000014   \n2668336  22.29.25.000-00000014   \n2668332  22.29.25.000-00000014   \n2668384  22.29.25.000-00000014   \n\n                                                 ktru_name okei company_id  \\\n206153   Провода и кабели электронные и электрические п...  8.0        207   \n241986   Провода и кабели электронные и электрические п...  8.0        207   \n163475   Провода и кабели электронные и электрические п...  8.0        207   \n304783   Провода и кабели электронные и электрические п...  8.0        207   \n169140   Провода и кабели электронные и электрические п...  8.0        207   \n...                                                    ...  ...        ...   \n2407209                       Лоток для бумаги пластиковый  NaN      34849   \n2407241                       Лоток для бумаги пластиковый  NaN      34849   \n2668336                       Лоток для бумаги пластиковый  NaN      34849   \n2668332                       Лоток для бумаги пластиковый  NaN      34849   \n2668384                       Лоток для бумаги пластиковый  NaN      34849   \n\n               company_name                                  company_fullname  \\\n206153   АО \"ИРКУТСККАБЕЛЬ\"              АКЦИОНЕРНОЕ ОБЩЕСТВО \"ИРКУТСККАБЕЛЬ\"   \n241986   АО \"ИРКУТСККАБЕЛЬ\"              АКЦИОНЕРНОЕ ОБЩЕСТВО \"ИРКУТСККАБЕЛЬ\"   \n163475   АО \"ИРКУТСККАБЕЛЬ\"              АКЦИОНЕРНОЕ ОБЩЕСТВО \"ИРКУТСККАБЕЛЬ\"   \n304783   АО \"ИРКУТСККАБЕЛЬ\"              АКЦИОНЕРНОЕ ОБЩЕСТВО \"ИРКУТСККАБЕЛЬ\"   \n169140   АО \"ИРКУТСККАБЕЛЬ\"              АКЦИОНЕРНОЕ ОБЩЕСТВО \"ИРКУТСККАБЕЛЬ\"   \n...                     ...                                               ...   \n2407209         ООО \"СТАММ\"  ОБЩЕСТВО С ОГРАНИЧЕННОЙ ОТВЕТСТВЕННОСТЬЮ \"СТАММ\"   \n2407241         ООО \"СТАММ\"  ОБЩЕСТВО С ОГРАНИЧЕННОЙ ОТВЕТСТВЕННОСТЬЮ \"СТАММ\"   \n2668336         ООО \"СТАММ\"  ОБЩЕСТВО С ОГРАНИЧЕННОЙ ОТВЕТСТВЕННОСТЬЮ \"СТАММ\"   \n2668332         ООО \"СТАММ\"  ОБЩЕСТВО С ОГРАНИЧЕННОЙ ОТВЕТСТВЕННОСТЬЮ \"СТАММ\"   \n2668384         ООО \"СТАММ\"  ОБЩЕСТВО С ОГРАНИЧЕННОЙ ОТВЕТСТВЕННОСТЬЮ \"СТАММ\"   \n\n        okved2_id                                        okved2_name  \\\n206153     1605.0  Производство прочих проводов и кабелей для эле...   \n241986     1605.0  Производство прочих проводов и кабелей для эле...   \n163475     1605.0  Производство прочих проводов и кабелей для эле...   \n304783     1605.0  Производство прочих проводов и кабелей для эле...   \n169140     1605.0  Производство прочих проводов и кабелей для эле...   \n...           ...                                                ...   \n2407209     976.0  Производство прочих изделий из пластмасс, не в...   \n2407241     976.0  Производство прочих изделий из пластмасс, не в...   \n2668336     976.0  Производство прочих изделий из пластмасс, не в...   \n2668332     976.0  Производство прочих изделий из пластмасс, не в...   \n2668384     976.0  Производство прочих изделий из пластмасс, не в...   \n\n                               key_words  \\\n206153           Кабель, Электропроводка   \n241986           Кабель, Электропроводка   \n163475           Кабель, Электропроводка   \n304783           Кабель, Электропроводка   \n169140           Кабель, Электропроводка   \n...                                  ...   \n2407209  полистирол, вертикальный, лоток   \n2407241  полистирол, вертикальный, лоток   \n2668336                              NaN   \n2668332                              NaN   \n2668384                              NaN   \n\n                                                tnved_name okpd2_id  \\\n206153                                                 NaN    10887   \n241986                                                 NaN    10887   \n163475                                                 NaN    10895   \n304783                                                 NaN    10868   \n169140                                                 NaN    10895   \n...                                                    ...      ...   \n2407209  Изделия прочие из пластмасс и изделия из прочи...     8290   \n2407241  Изделия прочие из пластмасс и изделия из прочи...     8290   \n2668336  Изделия прочие из пластмасс и изделия из прочи...     8290   \n2668332  Изделия прочие из пластмасс и изделия из прочи...     8290   \n2668384  Изделия прочие из пластмасс и изделия из прочи...     8290   \n\n                                               okpd2_names  \n206153   Кабели монтажные Кабели, провода и другие пров...  \n241986   Кабели монтажные Кабели, провода и другие пров...  \n163475   Кабели силовые для стационарной прокладки на н...  \n304783   Кабели управления Кабели управления, контроля,...  \n169140   Кабели силовые для стационарной прокладки на н...  \n...                                                    ...  \n2407209  Принадлежности канцелярские или школьные пласт...  \n2407241  Принадлежности канцелярские или школьные пласт...  \n2668336  Принадлежности канцелярские или школьные пласт...  \n2668332  Принадлежности канцелярские или школьные пласт...  \n2668384  Принадлежности канцелярские или школьные пласт...  \n\n[10000 rows x 16 columns]",
      "text/html": "<div>\n<style scoped>\n    .dataframe tbody tr th:only-of-type {\n        vertical-align: middle;\n    }\n\n    .dataframe tbody tr th {\n        vertical-align: top;\n    }\n\n    .dataframe thead th {\n        text-align: right;\n    }\n</style>\n<table border=\"1\" class=\"dataframe\">\n  <thead>\n    <tr style=\"text-align: right;\">\n      <th></th>\n      <th>name</th>\n      <th>descr</th>\n      <th>okpd2</th>\n      <th>okpd2_name</th>\n      <th>ktru</th>\n      <th>ktru_name</th>\n      <th>okei</th>\n      <th>company_id</th>\n      <th>company_name</th>\n      <th>company_fullname</th>\n      <th>okved2_id</th>\n      <th>okved2_name</th>\n      <th>key_words</th>\n      <th>tnved_name</th>\n      <th>okpd2_id</th>\n      <th>okpd2_names</th>\n    </tr>\n  </thead>\n  <tbody>\n    <tr>\n      <th>206153</th>\n      <td>Кабель ККЗ МК ВЭмКВ(г) 11*1,0м</td>\n      <td>Кабели монтажные</td>\n      <td>27.32.13.191</td>\n      <td>Кабели монтажные</td>\n      <td>27.32.10.000-00000001</td>\n      <td>Провода и кабели электронные и электрические п...</td>\n      <td>8.0</td>\n      <td>207</td>\n      <td>АО \"ИРКУТСККАБЕЛЬ\"</td>\n      <td>АКЦИОНЕРНОЕ ОБЩЕСТВО \"ИРКУТСККАБЕЛЬ\"</td>\n      <td>1605.0</td>\n      <td>Производство прочих проводов и кабелей для эле...</td>\n      <td>Кабель, Электропроводка</td>\n      <td>NaN</td>\n      <td>10887</td>\n      <td>Кабели монтажные Кабели, провода и другие пров...</td>\n    </tr>\n    <tr>\n      <th>241986</th>\n      <td>Кабель ККЗ МК ВЭКВнг(А)-FRLS 6*2*0,50</td>\n      <td>Кабели монтажные</td>\n      <td>27.32.13.191</td>\n      <td>Кабели монтажные</td>\n      <td>27.32.10.000-00000001</td>\n      <td>Провода и кабели электронные и электрические п...</td>\n      <td>8.0</td>\n      <td>207</td>\n      <td>АО \"ИРКУТСККАБЕЛЬ\"</td>\n      <td>АКЦИОНЕРНОЕ ОБЩЕСТВО \"ИРКУТСККАБЕЛЬ\"</td>\n      <td>1605.0</td>\n      <td>Производство прочих проводов и кабелей для эле...</td>\n      <td>Кабель, Электропроводка</td>\n      <td>NaN</td>\n      <td>10887</td>\n      <td>Кабели монтажные Кабели, провода и другие пров...</td>\n    </tr>\n    <tr>\n      <th>163475</th>\n      <td>Кабель ПвВнг(B) 1*800мк/150-10</td>\n      <td>Кабели силовые для стационарной прокладки на н...</td>\n      <td>27.32.14.110</td>\n      <td>Кабели силовые для стационарной прокладки на н...</td>\n      <td>27.32.10.000-00000001</td>\n      <td>Провода и кабели электронные и электрические п...</td>\n      <td>8.0</td>\n      <td>207</td>\n      <td>АО \"ИРКУТСККАБЕЛЬ\"</td>\n      <td>АКЦИОНЕРНОЕ ОБЩЕСТВО \"ИРКУТСККАБЕЛЬ\"</td>\n      <td>1605.0</td>\n      <td>Производство прочих проводов и кабелей для эле...</td>\n      <td>Кабель, Электропроводка</td>\n      <td>NaN</td>\n      <td>10895</td>\n      <td>Кабели силовые для стационарной прокладки на н...</td>\n    </tr>\n    <tr>\n      <th>304783</th>\n      <td>Кабель КМПвВЭнг(А)-FRLS 10*1,0-500</td>\n      <td>Кабели управления</td>\n      <td>27.32.13.141</td>\n      <td>Кабели управления</td>\n      <td>27.32.10.000-00000001</td>\n      <td>Провода и кабели электронные и электрические п...</td>\n      <td>8.0</td>\n      <td>207</td>\n      <td>АО \"ИРКУТСККАБЕЛЬ\"</td>\n      <td>АКЦИОНЕРНОЕ ОБЩЕСТВО \"ИРКУТСККАБЕЛЬ\"</td>\n      <td>1605.0</td>\n      <td>Производство прочих проводов и кабелей для эле...</td>\n      <td>Кабель, Электропроводка</td>\n      <td>NaN</td>\n      <td>10868</td>\n      <td>Кабели управления Кабели управления, контроля,...</td>\n    </tr>\n    <tr>\n      <th>169140</th>\n      <td>Кабель ПвВнг(B)-LS 1*500мк/120-20</td>\n      <td>Кабели силовые для стационарной прокладки на н...</td>\n      <td>27.32.14.110</td>\n      <td>Кабели силовые для стационарной прокладки на н...</td>\n      <td>27.32.10.000-00000001</td>\n      <td>Провода и кабели электронные и электрические п...</td>\n      <td>8.0</td>\n      <td>207</td>\n      <td>АО \"ИРКУТСККАБЕЛЬ\"</td>\n      <td>АКЦИОНЕРНОЕ ОБЩЕСТВО \"ИРКУТСККАБЕЛЬ\"</td>\n      <td>1605.0</td>\n      <td>Производство прочих проводов и кабелей для эле...</td>\n      <td>Кабель, Электропроводка</td>\n      <td>NaN</td>\n      <td>10895</td>\n      <td>Кабели силовые для стационарной прокладки на н...</td>\n    </tr>\n    <tr>\n      <th>...</th>\n      <td>...</td>\n      <td>...</td>\n      <td>...</td>\n      <td>...</td>\n      <td>...</td>\n      <td>...</td>\n      <td>...</td>\n      <td>...</td>\n      <td>...</td>\n      <td>...</td>\n      <td>...</td>\n      <td>...</td>\n      <td>...</td>\n      <td>...</td>\n      <td>...</td>\n      <td>...</td>\n    </tr>\n    <tr>\n      <th>2407209</th>\n      <td>Лоток вертикальный ФАВОРИТ тонированный  серый</td>\n      <td>Лоток вертикальный для документации формата А4...</td>\n      <td>22.29.25.000</td>\n      <td>Принадлежности канцелярские или школьные пласт...</td>\n      <td>22.29.25.000-00000014</td>\n      <td>Лоток для бумаги пластиковый</td>\n      <td>NaN</td>\n      <td>34849</td>\n      <td>ООО \"СТАММ\"</td>\n      <td>ОБЩЕСТВО С ОГРАНИЧЕННОЙ ОТВЕТСТВЕННОСТЬЮ \"СТАММ\"</td>\n      <td>976.0</td>\n      <td>Производство прочих изделий из пластмасс, не в...</td>\n      <td>полистирол, вертикальный, лоток</td>\n      <td>Изделия прочие из пластмасс и изделия из прочи...</td>\n      <td>8290</td>\n      <td>Принадлежности канцелярские или школьные пласт...</td>\n    </tr>\n    <tr>\n      <th>2407241</th>\n      <td>Лоток вертикальный ТРОПИК  тонированный  серый</td>\n      <td>Лоток вертикальный для документации формата А4...</td>\n      <td>22.29.25.000</td>\n      <td>Принадлежности канцелярские или школьные пласт...</td>\n      <td>22.29.25.000-00000014</td>\n      <td>Лоток для бумаги пластиковый</td>\n      <td>NaN</td>\n      <td>34849</td>\n      <td>ООО \"СТАММ\"</td>\n      <td>ОБЩЕСТВО С ОГРАНИЧЕННОЙ ОТВЕТСТВЕННОСТЬЮ \"СТАММ\"</td>\n      <td>976.0</td>\n      <td>Производство прочих изделий из пластмасс, не в...</td>\n      <td>полистирол, вертикальный, лоток</td>\n      <td>Изделия прочие из пластмасс и изделия из прочи...</td>\n      <td>8290</td>\n      <td>Принадлежности канцелярские или школьные пласт...</td>\n    </tr>\n    <tr>\n      <th>2668336</th>\n      <td>Лоток для бумаг вертикальный \"Line\", сборный, ...</td>\n      <td>Лоток сборный 4 отделения для документации фор...</td>\n      <td>22.29.25.000</td>\n      <td>Принадлежности канцелярские или школьные пласт...</td>\n      <td>22.29.25.000-00000014</td>\n      <td>Лоток для бумаги пластиковый</td>\n      <td>NaN</td>\n      <td>34849</td>\n      <td>ООО \"СТАММ\"</td>\n      <td>ОБЩЕСТВО С ОГРАНИЧЕННОЙ ОТВЕТСТВЕННОСТЬЮ \"СТАММ\"</td>\n      <td>976.0</td>\n      <td>Производство прочих изделий из пластмасс, не в...</td>\n      <td>NaN</td>\n      <td>Изделия прочие из пластмасс и изделия из прочи...</td>\n      <td>8290</td>\n      <td>Принадлежности канцелярские или школьные пласт...</td>\n    </tr>\n    <tr>\n      <th>2668332</th>\n      <td>Лоток для бумаг вертикальный \"Line\", сборный, ...</td>\n      <td>Лоток вертикальный для хранения документации ф...</td>\n      <td>22.29.25.000</td>\n      <td>Принадлежности канцелярские или школьные пласт...</td>\n      <td>22.29.25.000-00000014</td>\n      <td>Лоток для бумаги пластиковый</td>\n      <td>NaN</td>\n      <td>34849</td>\n      <td>ООО \"СТАММ\"</td>\n      <td>ОБЩЕСТВО С ОГРАНИЧЕННОЙ ОТВЕТСТВЕННОСТЬЮ \"СТАММ\"</td>\n      <td>976.0</td>\n      <td>Производство прочих изделий из пластмасс, не в...</td>\n      <td>NaN</td>\n      <td>Изделия прочие из пластмасс и изделия из прочи...</td>\n      <td>8290</td>\n      <td>Принадлежности канцелярские или школьные пласт...</td>\n    </tr>\n    <tr>\n      <th>2668384</th>\n      <td>Лоток для бумаг вертикальный, сборный, 5 отдел...</td>\n      <td>Вертикальный лоток с пятью секциями для докуме...</td>\n      <td>22.29.25.000</td>\n      <td>Принадлежности канцелярские или школьные пласт...</td>\n      <td>22.29.25.000-00000014</td>\n      <td>Лоток для бумаги пластиковый</td>\n      <td>NaN</td>\n      <td>34849</td>\n      <td>ООО \"СТАММ\"</td>\n      <td>ОБЩЕСТВО С ОГРАНИЧЕННОЙ ОТВЕТСТВЕННОСТЬЮ \"СТАММ\"</td>\n      <td>976.0</td>\n      <td>Производство прочих изделий из пластмасс, не в...</td>\n      <td>NaN</td>\n      <td>Изделия прочие из пластмасс и изделия из прочи...</td>\n      <td>8290</td>\n      <td>Принадлежности канцелярские или школьные пласт...</td>\n    </tr>\n  </tbody>\n</table>\n<p>10000 rows × 16 columns</p>\n</div>"
     },
     "execution_count": 20,
     "metadata": {},
     "output_type": "execute_result"
    }
   ],
   "source": [
    "df = pd.read_csv('data/df.csv', index_col=0, dtype=str)\n",
    "df = df.iloc[0:10000]\n",
    "df"
   ],
   "metadata": {
    "collapsed": false
   }
  },
  {
   "cell_type": "markdown",
   "source": [
    "# Model"
   ],
   "metadata": {
    "collapsed": false
   }
  },
  {
   "cell_type": "markdown",
   "source": [
    "Функционал Model:\n",
    "\n",
    "1. *Обучение с заданными гиперпараметрами.*\n",
    "\n",
    "2. *Обучение с подбором гиперпараметров*\n",
    "\n",
    "3. *Разметка датасета.*\n"
   ],
   "metadata": {
    "collapsed": false
   }
  },
  {
   "cell_type": "markdown",
   "source": [
    "## Learning (no finetuning)"
   ],
   "metadata": {
    "collapsed": false
   }
  },
  {
   "cell_type": "markdown",
   "source": [
    "В конструктор модели подаем обязательные параметры: список категориальных, текстовых фичей и таргет.\n",
    "Если исключить фичу из списка ниже, она не будет использована при обучении.\n",
    "\n",
    "Можно подать метрики, которые будут оцениваться. Обучаться модель будет по метрике, указанной в параметрах params['eval_metric']\n",
    "\n",
    "Полный список параметров описан в классе."
   ],
   "metadata": {
    "collapsed": false
   }
  },
  {
   "cell_type": "code",
   "execution_count": 21,
   "outputs": [],
   "source": [
    "# обязательные параметры\n",
    "cat_features = ['okpd2', 'okei', 'company_id']\n",
    "text_features = ['name', 'descr', 'okpd2_name', 'okpd2_names', 'company_name', 'company_fullname', 'okved2_name', 'key_words', 'tnved_name']\n",
    "target = 'ktru_name'\n",
    "\n",
    "# необязательные параметры (для них прописаны значения по умолчанию)\n",
    "metrics = ['Accuracy', 'TotalF1:average=Weighted', 'TotalF1:average=Macro']\n",
    "\n",
    "params = {\n",
    "    'iterations': 316,\n",
    "    'learning_rate': 0.1442774314920995,\n",
    "    'depth': 4,\n",
    "    'l2_leaf_reg': 3.925290717509199,\n",
    "    'boosting_type': 'Plain',\n",
    "    'eval_metric': 'TotalF1:average=Macro',\n",
    "    'task_type': 'GPU'\n",
    "}\n",
    "\n",
    "\n",
    "model = Model(\n",
    "    cat_features=cat_features,\n",
    "    text_features=text_features,\n",
    "    target=target,\n",
    "    params=params,\n",
    "    metrics=metrics\n",
    ")"
   ],
   "metadata": {
    "collapsed": false
   }
  },
  {
   "cell_type": "markdown",
   "source": [
    "Метод train принимает датасет и обучает на нём модель."
   ],
   "metadata": {
    "collapsed": false
   }
  },
  {
   "cell_type": "code",
   "execution_count": 22,
   "outputs": [
    {
     "name": "stdout",
     "output_type": "stream",
     "text": [
      "0:\tlearn: 0.0807170\ttest: 0.0806487\tbest: 0.0806487 (0)\ttotal: 131ms\tremaining: 41.3s\n",
      "100:\tlearn: 0.9975996\ttest: 0.9983996\tbest: 0.9983996 (91)\ttotal: 7.29s\tremaining: 15.5s\n",
      "200:\tlearn: 0.9996000\ttest: 0.9991999\tbest: 0.9991999 (127)\ttotal: 14.6s\tremaining: 8.38s\n",
      "300:\tlearn: 0.9997333\ttest: 0.9991999\tbest: 0.9991999 (127)\ttotal: 23.4s\tremaining: 1.17s\n",
      "315:\tlearn: 0.9997333\ttest: 0.9991999\tbest: 0.9991999 (127)\ttotal: 24.5s\tremaining: 0us\n",
      "bestTest = 0.99919992\n",
      "bestIteration = 127\n",
      "Shrink model to first 128 iterations.\n"
     ]
    },
    {
     "data": {
      "text/plain": "<catboost.core.CatBoostClassifier at 0x7fa873884fd0>"
     },
     "execution_count": 22,
     "metadata": {},
     "output_type": "execute_result"
    }
   ],
   "source": [
    "model.train(df)"
   ],
   "metadata": {
    "collapsed": false
   }
  },
  {
   "cell_type": "markdown",
   "source": [
    "Посмотрим на метрики, указанные при инициализации:"
   ],
   "metadata": {
    "collapsed": false
   }
  },
  {
   "cell_type": "code",
   "execution_count": 23,
   "outputs": [
    {
     "name": "stdout",
     "output_type": "stream",
     "text": [
      "Resulting Metrics:\n",
      "Accuracy: 0.9992\n",
      "TotalF1:average=Weighted: 0.9991999199919992\n",
      "TotalF1:average=Macro: 0.9991999199919992\n"
     ]
    }
   ],
   "source": [
    "model.print_metrics()"
   ],
   "metadata": {
    "collapsed": false
   }
  },
  {
   "cell_type": "markdown",
   "source": [
    "Важность фичей:"
   ],
   "metadata": {
    "collapsed": false
   }
  },
  {
   "cell_type": "code",
   "execution_count": 24,
   "outputs": [
    {
     "name": "stdout",
     "output_type": "stream",
     "text": [
      "Feature Importances:\n",
      "okpd2 \t 0.0\n",
      "okei \t 1.090436997145476\n",
      "company_id \t 0.0\n",
      "name \t 0.3676105739238906\n",
      "descr \t 3.970145742817416\n",
      "okpd2_name \t 13.656054609642805\n",
      "okpd2_names \t 68.76955580251415\n",
      "company_name \t 0.18217715799579315\n",
      "company_fullname \t 0.7997381077578455\n",
      "okved2_name \t 4.407407258113741\n",
      "key_words \t 3.194672722972922\n",
      "tnved_name \t 3.5622010271159374\n"
     ]
    }
   ],
   "source": [
    "model.print_feature_importances()"
   ],
   "metadata": {
    "collapsed": false
   }
  },
  {
   "cell_type": "markdown",
   "source": [
    "Confusion Matrix:"
   ],
   "metadata": {
    "collapsed": false
   }
  },
  {
   "cell_type": "code",
   "execution_count": 25,
   "outputs": [
    {
     "data": {
      "text/plain": "array([[50.,  0.,  0., ...,  0.,  0.,  0.],\n       [ 0., 50.,  0., ...,  0.,  0.,  0.],\n       [ 0.,  0., 50., ...,  0.,  0.,  0.],\n       ...,\n       [ 0.,  0.,  0., ..., 50.,  0.,  0.],\n       [ 0.,  0.,  0., ...,  0., 50.,  0.],\n       [ 0.,  0.,  0., ...,  0.,  0., 50.]])"
     },
     "execution_count": 25,
     "metadata": {},
     "output_type": "execute_result"
    }
   ],
   "source": [
    "cm = model.get_confusion_matrix()\n",
    "cm"
   ],
   "metadata": {
    "collapsed": false
   }
  },
  {
   "cell_type": "markdown",
   "source": [
    "Все ошибки модели по классам на тестовой выборке:"
   ],
   "metadata": {
    "collapsed": false
   }
  },
  {
   "cell_type": "code",
   "execution_count": 26,
   "outputs": [
    {
     "data": {
      "text/plain": "   class_id                                         class_name  accuracy  \\\n0        21  Оборудование для производства пищевых продукто...      0.98   \n1        26                                  Папка пластиковая      0.98   \n\n   num_of_examples                                     confused_with  \n0             50.0               \"Пароконвектомат\" (class 27) 1/50.   \n1             50.0  \"Лоток для бумаги пластиковый\" (class 17) 1/50.   ",
      "text/html": "<div>\n<style scoped>\n    .dataframe tbody tr th:only-of-type {\n        vertical-align: middle;\n    }\n\n    .dataframe tbody tr th {\n        vertical-align: top;\n    }\n\n    .dataframe thead th {\n        text-align: right;\n    }\n</style>\n<table border=\"1\" class=\"dataframe\">\n  <thead>\n    <tr style=\"text-align: right;\">\n      <th></th>\n      <th>class_id</th>\n      <th>class_name</th>\n      <th>accuracy</th>\n      <th>num_of_examples</th>\n      <th>confused_with</th>\n    </tr>\n  </thead>\n  <tbody>\n    <tr>\n      <th>0</th>\n      <td>21</td>\n      <td>Оборудование для производства пищевых продукто...</td>\n      <td>0.98</td>\n      <td>50.0</td>\n      <td>\"Пароконвектомат\" (class 27) 1/50.</td>\n    </tr>\n    <tr>\n      <th>1</th>\n      <td>26</td>\n      <td>Папка пластиковая</td>\n      <td>0.98</td>\n      <td>50.0</td>\n      <td>\"Лоток для бумаги пластиковый\" (class 17) 1/50.</td>\n    </tr>\n  </tbody>\n</table>\n</div>"
     },
     "execution_count": 26,
     "metadata": {},
     "output_type": "execute_result"
    }
   ],
   "source": [
    "inaccurate_classes = model.get_inaccurate_classes()\n",
    "inaccurate_classes"
   ],
   "metadata": {
    "collapsed": false
   }
  },
  {
   "cell_type": "markdown",
   "source": [
    "1/50 означает, что 1 из 50 примеров был определен в указанный класс."
   ],
   "metadata": {
    "collapsed": false
   }
  },
  {
   "cell_type": "code",
   "execution_count": 36,
   "outputs": [
    {
     "name": "stdout",
     "output_type": "stream",
     "text": [
      "True Class: Оборудование для производства пищевых продуктов, напитков и табачных изделий, кроме его частей\n",
      "Confused with: \"Пароконвектомат\" (class 27) 1/50. \n"
     ]
    }
   ],
   "source": [
    "print(\"True Class:\", inaccurate_classes.iloc[0]['class_name'])\n",
    "print(\"Confused with:\", inaccurate_classes.iloc[0]['confused_with'])"
   ],
   "metadata": {
    "collapsed": false
   }
  },
  {
   "cell_type": "markdown",
   "source": [
    "## Finetuning"
   ],
   "metadata": {
    "collapsed": false
   }
  },
  {
   "cell_type": "markdown",
   "source": [
    "finetune_params определяет диапазоны числовых гиперпараметров"
   ],
   "metadata": {
    "collapsed": false
   }
  },
  {
   "cell_type": "code",
   "execution_count": 29,
   "outputs": [],
   "source": [
    "finetune_params = {\n",
    "    'iterations': (300, 500),\n",
    "    'learning_rate': (0.005, 0.15),\n",
    "    'depth': (3, 4),\n",
    "    'l2_leaf_reg': (1, 10)\n",
    "}\n",
    "\n",
    "model_finetuned = Model(\n",
    "    cat_features=cat_features,\n",
    "    text_features=text_features,\n",
    "    target=target,\n",
    "    finetune=True,\n",
    "    finetune_n_trials=2,\n",
    "    finetune_params=finetune_params\n",
    ")"
   ],
   "metadata": {
    "collapsed": false
   }
  },
  {
   "cell_type": "markdown",
   "source": [
    "При finetune=True метод train проведёт finetune_n_trials триалов, получит оптимальные параметры, а затем обучит на них итоговую модель.\n",
    "\n",
    "Для примера запустим на 2 триалах:"
   ],
   "metadata": {
    "collapsed": false
   }
  },
  {
   "cell_type": "code",
   "execution_count": 31,
   "outputs": [
    {
     "name": "stderr",
     "output_type": "stream",
     "text": [
      "\u001B[32m[I 2022-11-16 17:02:12,012]\u001B[0m A new study created in memory with name: no-name-7f4a8317-bf08-4984-baac-9e5ab22bdbfa\u001B[0m\n",
      "\u001B[32m[I 2022-11-16 17:02:56,159]\u001B[0m Trial 0 finished with value: 0.998398879023124 and parameters: {'iterations': 375, 'learning_rate': 0.14285357442943783, 'depth': 4, 'l2_leaf_reg': 6.387926357773329, 'boosting_type': 'Plain'}. Best is trial 0 with value: 0.998398879023124.\u001B[0m\n",
      "\u001B[32m[I 2022-11-16 17:03:44,769]\u001B[0m Trial 1 finished with value: 0.9890589137751293 and parameters: {'iterations': 331, 'learning_rate': 0.027619205448749382, 'depth': 3, 'l2_leaf_reg': 8.795585311974417, 'boosting_type': 'Plain'}. Best is trial 0 with value: 0.998398879023124.\u001B[0m\n"
     ]
    },
    {
     "name": "stdout",
     "output_type": "stream",
     "text": [
      "Number of finished trials: 2\n",
      "Best trial:\n",
      "  Value: 0.998398879023124\n",
      "  Params: \n",
      "    iterations: 375\n",
      "    learning_rate: 0.14285357442943783\n",
      "    depth: 4\n",
      "    l2_leaf_reg: 6.387926357773329\n",
      "    boosting_type: Plain\n",
      "0:\tlearn: 0.0808511\ttest: 0.0808511\tbest: 0.0808511 (0)\ttotal: 155ms\tremaining: 58.1s\n",
      "100:\tlearn: 0.9942271\ttest: 0.9903181\tbest: 0.9903181 (99)\ttotal: 7.97s\tremaining: 21.6s\n",
      "200:\tlearn: 0.9986666\ttest: 0.9971973\tbest: 0.9971973 (198)\ttotal: 15.2s\tremaining: 13.1s\n",
      "300:\tlearn: 0.9994667\ttest: 0.9979974\tbest: 0.9979974 (287)\ttotal: 21.8s\tremaining: 5.37s\n",
      "374:\tlearn: 0.9997333\ttest: 0.9979974\tbest: 0.9983989 (350)\ttotal: 26.7s\tremaining: 0us\n",
      "bestTest = 0.998398879\n",
      "bestIteration = 350\n",
      "Shrink model to first 351 iterations.\n"
     ]
    },
    {
     "data": {
      "text/plain": "<catboost.core.CatBoostClassifier at 0x7fa8a3b730a0>"
     },
     "execution_count": 31,
     "metadata": {},
     "output_type": "execute_result"
    }
   ],
   "source": [
    "model_finetuned.train(df)"
   ],
   "metadata": {
    "collapsed": false
   }
  },
  {
   "cell_type": "code",
   "execution_count": 32,
   "outputs": [
    {
     "data": {
      "text/plain": "   class_id                                         class_name  accuracy  \\\n1        21  Оборудование для производства пищевых продукто...      0.94   \n0         4                           Бахилы водонепроницаемые      0.98   \n\n   num_of_examples                                      confused_with  \n1             50.0                \"Пароконвектомат\" (class 27) 3/50.   \n0             50.0  \"Емкость для сбора колюще-режущих медицинских ...  ",
      "text/html": "<div>\n<style scoped>\n    .dataframe tbody tr th:only-of-type {\n        vertical-align: middle;\n    }\n\n    .dataframe tbody tr th {\n        vertical-align: top;\n    }\n\n    .dataframe thead th {\n        text-align: right;\n    }\n</style>\n<table border=\"1\" class=\"dataframe\">\n  <thead>\n    <tr style=\"text-align: right;\">\n      <th></th>\n      <th>class_id</th>\n      <th>class_name</th>\n      <th>accuracy</th>\n      <th>num_of_examples</th>\n      <th>confused_with</th>\n    </tr>\n  </thead>\n  <tbody>\n    <tr>\n      <th>1</th>\n      <td>21</td>\n      <td>Оборудование для производства пищевых продукто...</td>\n      <td>0.94</td>\n      <td>50.0</td>\n      <td>\"Пароконвектомат\" (class 27) 3/50.</td>\n    </tr>\n    <tr>\n      <th>0</th>\n      <td>4</td>\n      <td>Бахилы водонепроницаемые</td>\n      <td>0.98</td>\n      <td>50.0</td>\n      <td>\"Емкость для сбора колюще-режущих медицинских ...</td>\n    </tr>\n  </tbody>\n</table>\n</div>"
     },
     "execution_count": 32,
     "metadata": {},
     "output_type": "execute_result"
    }
   ],
   "source": [
    "inaccurate_classes_finetuned = model_finetuned.get_inaccurate_classes()\n",
    "inaccurate_classes_finetuned"
   ],
   "metadata": {
    "collapsed": false
   }
  },
  {
   "cell_type": "code",
   "execution_count": 37,
   "outputs": [
    {
     "name": "stdout",
     "output_type": "stream",
     "text": [
      "True Class: Оборудование для производства пищевых продуктов, напитков и табачных изделий, кроме его частей\n",
      "Confused with: \"Пароконвектомат\" (class 27) 3/50. \n"
     ]
    }
   ],
   "source": [
    "print(\"True Class:\", inaccurate_classes_finetuned.iloc[0]['class_name'])\n",
    "print(\"Confused with:\", inaccurate_classes_finetuned.iloc[0]['confused_with'])"
   ],
   "metadata": {
    "collapsed": false
   }
  },
  {
   "cell_type": "markdown",
   "source": [
    "## Save and load from file"
   ],
   "metadata": {
    "collapsed": false
   }
  },
  {
   "cell_type": "markdown",
   "source": [
    "Сохраним модель в файл:"
   ],
   "metadata": {
    "collapsed": false
   }
  },
  {
   "cell_type": "code",
   "execution_count": 38,
   "outputs": [],
   "source": [
    "filename = \"model.cbm\""
   ],
   "metadata": {
    "collapsed": false
   }
  },
  {
   "cell_type": "code",
   "execution_count": 39,
   "outputs": [],
   "source": [
    "model.save_model(filename)"
   ],
   "metadata": {
    "collapsed": false
   }
  },
  {
   "cell_type": "markdown",
   "source": [
    "Загрузим модель из файла:"
   ],
   "metadata": {
    "collapsed": false
   }
  },
  {
   "cell_type": "code",
   "execution_count": 40,
   "outputs": [],
   "source": [
    "model_loaded = Model(\n",
    "    cat_features=cat_features,\n",
    "    text_features=text_features,\n",
    "    target=target\n",
    ")\n",
    "model_loaded.load_model(filename)"
   ],
   "metadata": {
    "collapsed": false
   }
  },
  {
   "cell_type": "markdown",
   "source": [
    "Confusion matrix и таблицу inaccurate_classes можно получить на любом датафрейме, содержащем все нужные фичи (cat_features + text_features).\n",
    "\n",
    "В примере ниже я отправил весь df для простоты:"
   ],
   "metadata": {
    "collapsed": false
   }
  },
  {
   "cell_type": "code",
   "execution_count": 41,
   "outputs": [
    {
     "data": {
      "text/plain": "   class_id                                         class_name  accuracy  \\\n1        21  Оборудование для производства пищевых продукто...     0.980   \n2        26                                  Папка пластиковая     0.990   \n0         7  Емкость для сбора колюще-режущих медицинских о...     0.995   \n3        29                                         Полуприцеп     0.995   \n\n   num_of_examples                                      confused_with  \n1            200.0               \"Пароконвектомат\" (class 27) 4/200.   \n2            200.0  \"Лоток для бумаги пластиковый\" (class 17) 2/200.   \n0            200.0       \"Бахилы водонепроницаемые\" (class 4) 1/200.   \n3            200.0                        \"Прицеп\" (class 31) 1/200.   ",
      "text/html": "<div>\n<style scoped>\n    .dataframe tbody tr th:only-of-type {\n        vertical-align: middle;\n    }\n\n    .dataframe tbody tr th {\n        vertical-align: top;\n    }\n\n    .dataframe thead th {\n        text-align: right;\n    }\n</style>\n<table border=\"1\" class=\"dataframe\">\n  <thead>\n    <tr style=\"text-align: right;\">\n      <th></th>\n      <th>class_id</th>\n      <th>class_name</th>\n      <th>accuracy</th>\n      <th>num_of_examples</th>\n      <th>confused_with</th>\n    </tr>\n  </thead>\n  <tbody>\n    <tr>\n      <th>1</th>\n      <td>21</td>\n      <td>Оборудование для производства пищевых продукто...</td>\n      <td>0.980</td>\n      <td>200.0</td>\n      <td>\"Пароконвектомат\" (class 27) 4/200.</td>\n    </tr>\n    <tr>\n      <th>2</th>\n      <td>26</td>\n      <td>Папка пластиковая</td>\n      <td>0.990</td>\n      <td>200.0</td>\n      <td>\"Лоток для бумаги пластиковый\" (class 17) 2/200.</td>\n    </tr>\n    <tr>\n      <th>0</th>\n      <td>7</td>\n      <td>Емкость для сбора колюще-режущих медицинских о...</td>\n      <td>0.995</td>\n      <td>200.0</td>\n      <td>\"Бахилы водонепроницаемые\" (class 4) 1/200.</td>\n    </tr>\n    <tr>\n      <th>3</th>\n      <td>29</td>\n      <td>Полуприцеп</td>\n      <td>0.995</td>\n      <td>200.0</td>\n      <td>\"Прицеп\" (class 31) 1/200.</td>\n    </tr>\n  </tbody>\n</table>\n</div>"
     },
     "execution_count": 41,
     "metadata": {},
     "output_type": "execute_result"
    }
   ],
   "source": [
    "inaccurate_classes_loaded_model = model_loaded.get_inaccurate_classes(data=df)\n",
    "inaccurate_classes_loaded_model"
   ],
   "metadata": {
    "collapsed": false
   }
  },
  {
   "cell_type": "markdown",
   "source": [
    "## Labeling"
   ],
   "metadata": {
    "collapsed": false
   }
  },
  {
   "cell_type": "markdown",
   "source": [
    "Для разметки нужно вызвать метод Model.label() и подать в него:\n",
    "1. либо датафрейм товаров со всеми необходимыми фичами (cat_features + text_features)\n",
    "2. либо pd.Series с ID товаров, которые нужно разметить (возьмутся ID из products.csv)"
   ],
   "metadata": {
    "collapsed": false
   }
  },
  {
   "cell_type": "markdown",
   "source": [
    "Для случая 1 попросим DataframeBuilder взять случайные num_of_examples неразмеченных товаров из products.csv. Класс сам добавит к ним необходимые для модели фичи:"
   ],
   "metadata": {
    "collapsed": false
   }
  },
  {
   "cell_type": "code",
   "execution_count": 42,
   "outputs": [
    {
     "name": "stderr",
     "output_type": "stream",
     "text": [
      "/home/pigeon_gcc/Desktop/gisp_classifier/inference/dataframe_builder.py:20: DtypeWarning: Columns (3,5,6,7,8,11,12,13,14,15,16,17,18,19,20,21,22,23,24,25,26) have mixed types. Specify dtype option on import or set low_memory=False.\n",
      "  df = pd.read_csv(path_to_csv, index_col=index_col)\n"
     ]
    },
    {
     "data": {
      "text/plain": "                                                      name  \\\n1123959            Стекло оптическое ЖС в блоке 177х206х57   \n2104853             Кабель РПГнг(А)-FRHF 5х35мк(N,PE)-1кВ    \n2505691  Кабели универсальные инструментальные КУИН нг(...   \n2565821  Кабели силовые, с алюминиевыми жилами, с изоля...   \n2635758          LTA-НТ Термометр лабораторный электронный   \n\n                                                     descr         okpd2  \\\n1123959  Стекло оптическое ЖС в блоке 177х206х57, Оптич...      26.70.21   \n2104853  Кабель РПГнг(А)-FRHF 5х35мк(N,PE)-1кВ , Кабель...  27.32.13.111   \n2505691  Кабели универсальные инструментальные КУИН нг(...  27.32.13.191   \n2565821  Кабели силовые, с алюминиевыми жилами, с изоля...  27.32.14.110   \n2635758  LTA-НТ Термометр лабораторный электронный, Пре...  26.51.51.110   \n\n                                                okpd2_name  okei  company_id  \\\n1123959  Листы и пластины из поляризационного материала...   796        1159   \n2104853  Кабели силовые с медной жилой на напряжение до...     8         364   \n2505691                                   Кабели монтажные     8        6711   \n2565821  Кабели силовые для стационарной прокладки на н...     8       17068   \n2635758                                         Термометры   796       30856   \n\n                  company_name  \\\n1123959                АО ЛЗОС   \n2104853               АО \"ЭКЗ\"   \n2505691     ЗАО \"Кубанькабель\"   \n2565821  ООО \"ЗАВОД МОСКАБЕЛЬ\"   \n2635758          ООО \"ТЕРМЭКС\"   \n\n                                          company_fullname  okved2_id  \\\n1123959  АКЦИОНЕРНОЕ ОБЩЕСТВО  \"ЛЫТКАРИНСКИЙ ЗАВОД ОПТИ...     1051.0   \n2104853  АКЦИОНЕРНОЕ ОБЩЕСТВО \"ЭЛЕКТРОКАБЕЛЬ\" КОЛЬЧУГИН...     1605.0   \n2505691  ЗАКРЫТОЕ АКЦИОНЕРНОЕ ОБЩЕСТВО \"КАБЕЛЬНЫЙ ЗАВОД...     1605.0   \n2565821  ОБЩЕСТВО С ОГРАНИЧЕННОЙ ОТВЕТСТВЕННОСТЬЮ \"ЗАВО...     1605.0   \n2635758  ОБЩЕСТВО С ОГРАНИЧЕННОЙ ОТВЕТСТВЕННОСТЬЮ \"ТЕРМ...     2482.0   \n\n                                               okved2_name  \\\n1123959  Производство оптических приборов, фото- и кино...   \n2104853  Производство прочих проводов и кабелей для эле...   \n2505691  Производство прочих проводов и кабелей для эле...   \n2565821  Производство прочих проводов и кабелей для эле...   \n2635758  Производство прочих приборов, датчиков, аппара...   \n\n                                                 key_words  \\\n1123959                                                NaN   \n2104853                                                NaN   \n2505691  кабели, монтажные, универсальные, инструментал...   \n2565821                                                NaN   \n2635758                                                NaN   \n\n                                                tnved_name  okpd2_id  \\\n1123959                                                NaN     10685   \n2104853  Провода изолированные (включая эмалированные и...     10848   \n2505691  Провода изолированные (включая эмалированные и...     10887   \n2565821  Провода изолированные (включая эмалированные и...     10895   \n2635758  Ареометры и аналогичные приборы, действующие п...     10462   \n\n                                               okpd2_names  \n1123959  Листы и пластины из поляризационного материала...  \n2104853  Кабели силовые с медной жилой на напряжение до...  \n2505691  Кабели монтажные Кабели, провода и другие пров...  \n2565821  Кабели силовые для стационарной прокладки на н...  \n2635758  Термометры Гидрометры, термометры, пирометры, ...  ",
      "text/html": "<div>\n<style scoped>\n    .dataframe tbody tr th:only-of-type {\n        vertical-align: middle;\n    }\n\n    .dataframe tbody tr th {\n        vertical-align: top;\n    }\n\n    .dataframe thead th {\n        text-align: right;\n    }\n</style>\n<table border=\"1\" class=\"dataframe\">\n  <thead>\n    <tr style=\"text-align: right;\">\n      <th></th>\n      <th>name</th>\n      <th>descr</th>\n      <th>okpd2</th>\n      <th>okpd2_name</th>\n      <th>okei</th>\n      <th>company_id</th>\n      <th>company_name</th>\n      <th>company_fullname</th>\n      <th>okved2_id</th>\n      <th>okved2_name</th>\n      <th>key_words</th>\n      <th>tnved_name</th>\n      <th>okpd2_id</th>\n      <th>okpd2_names</th>\n    </tr>\n  </thead>\n  <tbody>\n    <tr>\n      <th>1123959</th>\n      <td>Стекло оптическое ЖС в блоке 177х206х57</td>\n      <td>Стекло оптическое ЖС в блоке 177х206х57, Оптич...</td>\n      <td>26.70.21</td>\n      <td>Листы и пластины из поляризационного материала...</td>\n      <td>796</td>\n      <td>1159</td>\n      <td>АО ЛЗОС</td>\n      <td>АКЦИОНЕРНОЕ ОБЩЕСТВО  \"ЛЫТКАРИНСКИЙ ЗАВОД ОПТИ...</td>\n      <td>1051.0</td>\n      <td>Производство оптических приборов, фото- и кино...</td>\n      <td>NaN</td>\n      <td>NaN</td>\n      <td>10685</td>\n      <td>Листы и пластины из поляризационного материала...</td>\n    </tr>\n    <tr>\n      <th>2104853</th>\n      <td>Кабель РПГнг(А)-FRHF 5х35мк(N,PE)-1кВ</td>\n      <td>Кабель РПГнг(А)-FRHF 5х35мк(N,PE)-1кВ , Кабель...</td>\n      <td>27.32.13.111</td>\n      <td>Кабели силовые с медной жилой на напряжение до...</td>\n      <td>8</td>\n      <td>364</td>\n      <td>АО \"ЭКЗ\"</td>\n      <td>АКЦИОНЕРНОЕ ОБЩЕСТВО \"ЭЛЕКТРОКАБЕЛЬ\" КОЛЬЧУГИН...</td>\n      <td>1605.0</td>\n      <td>Производство прочих проводов и кабелей для эле...</td>\n      <td>NaN</td>\n      <td>Провода изолированные (включая эмалированные и...</td>\n      <td>10848</td>\n      <td>Кабели силовые с медной жилой на напряжение до...</td>\n    </tr>\n    <tr>\n      <th>2505691</th>\n      <td>Кабели универсальные инструментальные КУИН нг(...</td>\n      <td>Кабели универсальные инструментальные КУИН нг(...</td>\n      <td>27.32.13.191</td>\n      <td>Кабели монтажные</td>\n      <td>8</td>\n      <td>6711</td>\n      <td>ЗАО \"Кубанькабель\"</td>\n      <td>ЗАКРЫТОЕ АКЦИОНЕРНОЕ ОБЩЕСТВО \"КАБЕЛЬНЫЙ ЗАВОД...</td>\n      <td>1605.0</td>\n      <td>Производство прочих проводов и кабелей для эле...</td>\n      <td>кабели, монтажные, универсальные, инструментал...</td>\n      <td>Провода изолированные (включая эмалированные и...</td>\n      <td>10887</td>\n      <td>Кабели монтажные Кабели, провода и другие пров...</td>\n    </tr>\n    <tr>\n      <th>2565821</th>\n      <td>Кабели силовые, с алюминиевыми жилами, с изоля...</td>\n      <td>Кабели силовые, с алюминиевыми жилами, с изоля...</td>\n      <td>27.32.14.110</td>\n      <td>Кабели силовые для стационарной прокладки на н...</td>\n      <td>8</td>\n      <td>17068</td>\n      <td>ООО \"ЗАВОД МОСКАБЕЛЬ\"</td>\n      <td>ОБЩЕСТВО С ОГРАНИЧЕННОЙ ОТВЕТСТВЕННОСТЬЮ \"ЗАВО...</td>\n      <td>1605.0</td>\n      <td>Производство прочих проводов и кабелей для эле...</td>\n      <td>NaN</td>\n      <td>Провода изолированные (включая эмалированные и...</td>\n      <td>10895</td>\n      <td>Кабели силовые для стационарной прокладки на н...</td>\n    </tr>\n    <tr>\n      <th>2635758</th>\n      <td>LTA-НТ Термометр лабораторный электронный</td>\n      <td>LTA-НТ Термометр лабораторный электронный, Пре...</td>\n      <td>26.51.51.110</td>\n      <td>Термометры</td>\n      <td>796</td>\n      <td>30856</td>\n      <td>ООО \"ТЕРМЭКС\"</td>\n      <td>ОБЩЕСТВО С ОГРАНИЧЕННОЙ ОТВЕТСТВЕННОСТЬЮ \"ТЕРМ...</td>\n      <td>2482.0</td>\n      <td>Производство прочих приборов, датчиков, аппара...</td>\n      <td>NaN</td>\n      <td>Ареометры и аналогичные приборы, действующие п...</td>\n      <td>10462</td>\n      <td>Термометры Гидрометры, термометры, пирометры, ...</td>\n    </tr>\n  </tbody>\n</table>\n</div>"
     },
     "execution_count": 42,
     "metadata": {},
     "output_type": "execute_result"
    }
   ],
   "source": [
    "output_path = \"data/df_sample_nonlabaled.csv\"\n",
    "dfb.build_nonlabeled(num_of_examples=5, output_path=output_path)\n",
    "data_sample_nonlabeled = pd.read_csv(output_path, index_col=0)\n",
    "data_sample_nonlabeled"
   ],
   "metadata": {
    "collapsed": false
   }
  },
  {
   "cell_type": "markdown",
   "source": [
    "Теперь модель может разметить этот датафрейм:"
   ],
   "metadata": {
    "collapsed": false
   }
  },
  {
   "cell_type": "code",
   "execution_count": 46,
   "outputs": [],
   "source": [
    "# возьмем загруженную модель\n",
    "model = model_loaded"
   ],
   "metadata": {
    "collapsed": false
   }
  },
  {
   "cell_type": "code",
   "execution_count": 47,
   "outputs": [
    {
     "name": "stdout",
     "output_type": "stream",
     "text": [
      "Share of labeled examples: 0.6\n"
     ]
    }
   ],
   "source": [
    "data_sample_labeled, ratio = model.label(data_sample_nonlabeled, threshold=0.5)\n",
    "print(f\"Share of labeled examples: {ratio}\")"
   ],
   "metadata": {
    "collapsed": false
   }
  },
  {
   "cell_type": "markdown",
   "source": [
    "Результат разметки с указанием уверенности:"
   ],
   "metadata": {
    "collapsed": false
   }
  },
  {
   "cell_type": "code",
   "execution_count": 48,
   "outputs": [
    {
     "data": {
      "text/plain": "                                                      name  \\\n1123959            Стекло оптическое ЖС в блоке 177х206х57   \n2104853             Кабель РПГнг(А)-FRHF 5х35мк(N,PE)-1кВ    \n2505691  Кабели универсальные инструментальные КУИН нг(...   \n2565821  Кабели силовые, с алюминиевыми жилами, с изоля...   \n2635758          LTA-НТ Термометр лабораторный электронный   \n\n                                                     descr  pred_id  \\\n1123959  Стекло оптическое ЖС в блоке 177х206х57, Оптич...       -1   \n2104853  Кабель РПГнг(А)-FRHF 5х35мк(N,PE)-1кВ , Кабель...       32   \n2505691  Кабели универсальные инструментальные КУИН нг(...       32   \n2565821  Кабели силовые, с алюминиевыми жилами, с изоля...       32   \n2635758  LTA-НТ Термометр лабораторный электронный, Пре...       -1   \n\n                                                 pred_name  pred_proba  \n1123959                                                 -1    0.040989  \n2104853  Провода и кабели электронные и электрические п...    0.768789  \n2505691  Провода и кабели электронные и электрические п...    0.741135  \n2565821  Провода и кабели электронные и электрические п...    0.747970  \n2635758                                                 -1    0.080050  ",
      "text/html": "<div>\n<style scoped>\n    .dataframe tbody tr th:only-of-type {\n        vertical-align: middle;\n    }\n\n    .dataframe tbody tr th {\n        vertical-align: top;\n    }\n\n    .dataframe thead th {\n        text-align: right;\n    }\n</style>\n<table border=\"1\" class=\"dataframe\">\n  <thead>\n    <tr style=\"text-align: right;\">\n      <th></th>\n      <th>name</th>\n      <th>descr</th>\n      <th>pred_id</th>\n      <th>pred_name</th>\n      <th>pred_proba</th>\n    </tr>\n  </thead>\n  <tbody>\n    <tr>\n      <th>1123959</th>\n      <td>Стекло оптическое ЖС в блоке 177х206х57</td>\n      <td>Стекло оптическое ЖС в блоке 177х206х57, Оптич...</td>\n      <td>-1</td>\n      <td>-1</td>\n      <td>0.040989</td>\n    </tr>\n    <tr>\n      <th>2104853</th>\n      <td>Кабель РПГнг(А)-FRHF 5х35мк(N,PE)-1кВ</td>\n      <td>Кабель РПГнг(А)-FRHF 5х35мк(N,PE)-1кВ , Кабель...</td>\n      <td>32</td>\n      <td>Провода и кабели электронные и электрические п...</td>\n      <td>0.768789</td>\n    </tr>\n    <tr>\n      <th>2505691</th>\n      <td>Кабели универсальные инструментальные КУИН нг(...</td>\n      <td>Кабели универсальные инструментальные КУИН нг(...</td>\n      <td>32</td>\n      <td>Провода и кабели электронные и электрические п...</td>\n      <td>0.741135</td>\n    </tr>\n    <tr>\n      <th>2565821</th>\n      <td>Кабели силовые, с алюминиевыми жилами, с изоля...</td>\n      <td>Кабели силовые, с алюминиевыми жилами, с изоля...</td>\n      <td>32</td>\n      <td>Провода и кабели электронные и электрические п...</td>\n      <td>0.747970</td>\n    </tr>\n    <tr>\n      <th>2635758</th>\n      <td>LTA-НТ Термометр лабораторный электронный</td>\n      <td>LTA-НТ Термометр лабораторный электронный, Пре...</td>\n      <td>-1</td>\n      <td>-1</td>\n      <td>0.080050</td>\n    </tr>\n  </tbody>\n</table>\n</div>"
     },
     "execution_count": 48,
     "metadata": {},
     "output_type": "execute_result"
    }
   ],
   "source": [
    "data_sample_labeled[['name', 'descr', 'pred_id', 'pred_name', 'pred_proba']]"
   ],
   "metadata": {
    "collapsed": false
   }
  },
  {
   "cell_type": "markdown",
   "source": [
    "Для случая 2 подадим в DatasetBuilder ID интересующих нас товаров из products.csv:"
   ],
   "metadata": {
    "collapsed": false
   }
  },
  {
   "cell_type": "code",
   "execution_count": null,
   "outputs": [],
   "source": [
    "ids = [60, 62, 64, 68, 4168, 3150, 2660251, 2663444]\n",
    "output_path = \"data/df_ids_nonlabaled.csv\"\n",
    "dfb.build_nonlabeled(ids=ids, output_path=output_path)"
   ],
   "metadata": {
    "collapsed": false
   }
  },
  {
   "cell_type": "code",
   "execution_count": 50,
   "outputs": [
    {
     "data": {
      "text/plain": "                                                      name  \\\n60                                         ПЕСОК ПРИРОДНЫЙ   \n62                                          ГРАВИЙ ФР 5*20   \n64                          Кислота терефталевая очищенная   \n68           Сода кальцинированная техническая марок А и Б   \n3150     Аллокин-альфа (Аллоферон), лиофилизат для приг...   \n4168     Витрина холодильная Ларь-бонета CORTINA 200 HT/СТ   \n2660251  Прицеп-комплекс тракторный для полива ПКП-4 «В...   \n2663444               Щелочные моющие средства NG Caus Eso   \n\n                                                     descr         okpd2  \\\n60       ПЕСОК ПРИРОДНЫЙ, Неорганический сыпучий матери...  08.12.11.190   \n62       ГРАВИЙ ФР 5*20, Неорганический зернистый сыпуч...  21.20.10.134   \n64       Кислота терефталевая очищенная, Для получения ...  20.14.34.121   \n68       Сода кальцинированная техническая марок А и Б,...  20.13.43.111   \n3150     Аллокин-альфа (Аллоферон), лиофилизат для приг...       21.20.1   \n4168     Витрина холодильная Ларь-бонета CORTINA 200 HT...  28.25.13.114   \n2660251  Прицеп-комплекс тракторный для полива ПКП-4 «В...  29.20.23.190   \n2663444  Щелочные моющие средства NG Caus Eso, Щелочные...  20.41.32.110   \n\n                                                okpd2_name  okei  company_id  \\\n60       Пески природные, не включенные в другие группи...   113        7635   \n62                Растворы плазмозамещающие и перфузионные   113        7635   \n64                                    Кислота терефталевая   168        5870   \n68                       Сода кальцинированная техническая   168         289   \n3150                               Препараты лекарственные   778        7941   \n4168                                   Витрины холодильные   876        6494   \n2660251  Прицепы и полуприцепы прочие, не включенные в ...   796       14467   \n2663444                                    Средства моющие   112       36408   \n\n                           company_name  \\\n60               АО \"КОШЕХАБЛЬСКИЙ КНМ\"   \n62               АО \"КОШЕХАБЛЬСКИЙ КНМ\"   \n64                          АО \"ПОЛИЭФ\"   \n68                             АО \"БСК\"   \n3150     ФГУП \"ГОС.НИИ ОЧБ\" ФМБА РОССИИ   \n4168                          ООО \"КМЗ\"   \n2660251              АО \"МОРДОВАГРОМАШ\"   \n2663444                  ООО \"НОВЭЛХИМ\"   \n\n                                          company_fullname  okved2_id  \\\n60       АКЦИОНЕРНОЕ ОБЩЕСТВО \"КОШЕХАБЛЬСКИЙ КОМБИНАТ Н...     1125.0   \n62       АКЦИОНЕРНОЕ ОБЩЕСТВО \"КОШЕХАБЛЬСКИЙ КОМБИНАТ Н...     1125.0   \n64                           АКЦИОНЕРНОЕ ОБЩЕСТВО \"ПОЛИЭФ\"      943.0   \n68       АКЦИОНЕРНОЕ ОБЩЕСТВО \"БАШКИРСКАЯ СОДОВАЯ КОМПА...      925.0   \n3150     ФЕДЕРАЛЬНОЕ ГОСУДАРСТВЕННОЕ УНИТАРНОЕ ПРЕДПРИЯ...     1669.0   \n4168     ОБЩЕСТВО С ОГРАНИЧЕННОЙ ОТВЕТСТВЕННОСТЬЮ \"КОСТ...      892.0   \n2660251                                                NaN       35.0   \n2663444  ОБЩЕСТВО С ОГРАНИЧЕННОЙ ОТВЕТСТВЕННОСТЬЮ \"НОВЭ...        NaN   \n\n                                               okved2_name  key_words  \\\n60                             Добыча камня, песка и глины        NaN   \n62                             Добыча камня, песка и глины        NaN   \n64       Производство пластмасс и синтетических смол в ...        NaN   \n68       Производство прочих основных неорганических хи...        NaN   \n3150     Научные исследования и разработки в области ес...        NaN   \n4168     Производство промышленного холодильного и вент...        NaN   \n2660251  Производство кузовов для автотранспортных сред...        NaN   \n2663444                                                NaN        NaN   \n\n                                                tnved_name  okpd2_id  \\\n60       Пески природные всех видов, окрашенные или нео...      2090   \n62       Галька, гравий, щебень или дробленый камень, о...      7966   \n64                                                     NaN      7227   \n68       Карбонаты; пероксокарбонаты (перкарбонаты); ка...      6864   \n3150     Лекарственные средства (кроме товаров товарной...      7948   \n4168                                                   NaN     11647   \n2660251  Прицепы и полуприцепы; прочие несамоходные тра...     12484   \n2663444  Вещества поверхностноактивные органические (кр...      7640   \n\n                                               okpd2_names  \n60       Пески природные, не включенные в другие группи...  \n62       Растворы плазмозамещающие и перфузионные Препа...  \n64       Кислота терефталевая Кислота терефталевая и ее...  \n68       Сода кальцинированная техническая Карбонат дин...  \n3150     Препараты лекарственные Препараты лекарственны...  \n4168     Витрины холодильные Оборудование холодильное и...  \n2660251  Прицепы и полуприцепы прочие, не включенные в ...  \n2663444  Средства моющие Средства моющие и стиральные М...  ",
      "text/html": "<div>\n<style scoped>\n    .dataframe tbody tr th:only-of-type {\n        vertical-align: middle;\n    }\n\n    .dataframe tbody tr th {\n        vertical-align: top;\n    }\n\n    .dataframe thead th {\n        text-align: right;\n    }\n</style>\n<table border=\"1\" class=\"dataframe\">\n  <thead>\n    <tr style=\"text-align: right;\">\n      <th></th>\n      <th>name</th>\n      <th>descr</th>\n      <th>okpd2</th>\n      <th>okpd2_name</th>\n      <th>okei</th>\n      <th>company_id</th>\n      <th>company_name</th>\n      <th>company_fullname</th>\n      <th>okved2_id</th>\n      <th>okved2_name</th>\n      <th>key_words</th>\n      <th>tnved_name</th>\n      <th>okpd2_id</th>\n      <th>okpd2_names</th>\n    </tr>\n  </thead>\n  <tbody>\n    <tr>\n      <th>60</th>\n      <td>ПЕСОК ПРИРОДНЫЙ</td>\n      <td>ПЕСОК ПРИРОДНЫЙ, Неорганический сыпучий матери...</td>\n      <td>08.12.11.190</td>\n      <td>Пески природные, не включенные в другие группи...</td>\n      <td>113</td>\n      <td>7635</td>\n      <td>АО \"КОШЕХАБЛЬСКИЙ КНМ\"</td>\n      <td>АКЦИОНЕРНОЕ ОБЩЕСТВО \"КОШЕХАБЛЬСКИЙ КОМБИНАТ Н...</td>\n      <td>1125.0</td>\n      <td>Добыча камня, песка и глины</td>\n      <td>NaN</td>\n      <td>Пески природные всех видов, окрашенные или нео...</td>\n      <td>2090</td>\n      <td>Пески природные, не включенные в другие группи...</td>\n    </tr>\n    <tr>\n      <th>62</th>\n      <td>ГРАВИЙ ФР 5*20</td>\n      <td>ГРАВИЙ ФР 5*20, Неорганический зернистый сыпуч...</td>\n      <td>21.20.10.134</td>\n      <td>Растворы плазмозамещающие и перфузионные</td>\n      <td>113</td>\n      <td>7635</td>\n      <td>АО \"КОШЕХАБЛЬСКИЙ КНМ\"</td>\n      <td>АКЦИОНЕРНОЕ ОБЩЕСТВО \"КОШЕХАБЛЬСКИЙ КОМБИНАТ Н...</td>\n      <td>1125.0</td>\n      <td>Добыча камня, песка и глины</td>\n      <td>NaN</td>\n      <td>Галька, гравий, щебень или дробленый камень, о...</td>\n      <td>7966</td>\n      <td>Растворы плазмозамещающие и перфузионные Препа...</td>\n    </tr>\n    <tr>\n      <th>64</th>\n      <td>Кислота терефталевая очищенная</td>\n      <td>Кислота терефталевая очищенная, Для получения ...</td>\n      <td>20.14.34.121</td>\n      <td>Кислота терефталевая</td>\n      <td>168</td>\n      <td>5870</td>\n      <td>АО \"ПОЛИЭФ\"</td>\n      <td>АКЦИОНЕРНОЕ ОБЩЕСТВО \"ПОЛИЭФ\"</td>\n      <td>943.0</td>\n      <td>Производство пластмасс и синтетических смол в ...</td>\n      <td>NaN</td>\n      <td>NaN</td>\n      <td>7227</td>\n      <td>Кислота терефталевая Кислота терефталевая и ее...</td>\n    </tr>\n    <tr>\n      <th>68</th>\n      <td>Сода кальцинированная техническая марок А и Б</td>\n      <td>Сода кальцинированная техническая марок А и Б,...</td>\n      <td>20.13.43.111</td>\n      <td>Сода кальцинированная техническая</td>\n      <td>168</td>\n      <td>289</td>\n      <td>АО \"БСК\"</td>\n      <td>АКЦИОНЕРНОЕ ОБЩЕСТВО \"БАШКИРСКАЯ СОДОВАЯ КОМПА...</td>\n      <td>925.0</td>\n      <td>Производство прочих основных неорганических хи...</td>\n      <td>NaN</td>\n      <td>Карбонаты; пероксокарбонаты (перкарбонаты); ка...</td>\n      <td>6864</td>\n      <td>Сода кальцинированная техническая Карбонат дин...</td>\n    </tr>\n    <tr>\n      <th>3150</th>\n      <td>Аллокин-альфа (Аллоферон), лиофилизат для приг...</td>\n      <td>Аллокин-альфа (Аллоферон), лиофилизат для приг...</td>\n      <td>21.20.1</td>\n      <td>Препараты лекарственные</td>\n      <td>778</td>\n      <td>7941</td>\n      <td>ФГУП \"ГОС.НИИ ОЧБ\" ФМБА РОССИИ</td>\n      <td>ФЕДЕРАЛЬНОЕ ГОСУДАРСТВЕННОЕ УНИТАРНОЕ ПРЕДПРИЯ...</td>\n      <td>1669.0</td>\n      <td>Научные исследования и разработки в области ес...</td>\n      <td>NaN</td>\n      <td>Лекарственные средства (кроме товаров товарной...</td>\n      <td>7948</td>\n      <td>Препараты лекарственные Препараты лекарственны...</td>\n    </tr>\n    <tr>\n      <th>4168</th>\n      <td>Витрина холодильная Ларь-бонета CORTINA 200 HT/СТ</td>\n      <td>Витрина холодильная Ларь-бонета CORTINA 200 HT...</td>\n      <td>28.25.13.114</td>\n      <td>Витрины холодильные</td>\n      <td>876</td>\n      <td>6494</td>\n      <td>ООО \"КМЗ\"</td>\n      <td>ОБЩЕСТВО С ОГРАНИЧЕННОЙ ОТВЕТСТВЕННОСТЬЮ \"КОСТ...</td>\n      <td>892.0</td>\n      <td>Производство промышленного холодильного и вент...</td>\n      <td>NaN</td>\n      <td>NaN</td>\n      <td>11647</td>\n      <td>Витрины холодильные Оборудование холодильное и...</td>\n    </tr>\n    <tr>\n      <th>2660251</th>\n      <td>Прицеп-комплекс тракторный для полива ПКП-4 «В...</td>\n      <td>Прицеп-комплекс тракторный для полива ПКП-4 «В...</td>\n      <td>29.20.23.190</td>\n      <td>Прицепы и полуприцепы прочие, не включенные в ...</td>\n      <td>796</td>\n      <td>14467</td>\n      <td>АО \"МОРДОВАГРОМАШ\"</td>\n      <td>NaN</td>\n      <td>35.0</td>\n      <td>Производство кузовов для автотранспортных сред...</td>\n      <td>NaN</td>\n      <td>Прицепы и полуприцепы; прочие несамоходные тра...</td>\n      <td>12484</td>\n      <td>Прицепы и полуприцепы прочие, не включенные в ...</td>\n    </tr>\n    <tr>\n      <th>2663444</th>\n      <td>Щелочные моющие средства NG Caus Eso</td>\n      <td>Щелочные моющие средства NG Caus Eso, Щелочные...</td>\n      <td>20.41.32.110</td>\n      <td>Средства моющие</td>\n      <td>112</td>\n      <td>36408</td>\n      <td>ООО \"НОВЭЛХИМ\"</td>\n      <td>ОБЩЕСТВО С ОГРАНИЧЕННОЙ ОТВЕТСТВЕННОСТЬЮ \"НОВЭ...</td>\n      <td>NaN</td>\n      <td>NaN</td>\n      <td>NaN</td>\n      <td>Вещества поверхностноактивные органические (кр...</td>\n      <td>7640</td>\n      <td>Средства моющие Средства моющие и стиральные М...</td>\n    </tr>\n  </tbody>\n</table>\n</div>"
     },
     "execution_count": 50,
     "metadata": {},
     "output_type": "execute_result"
    }
   ],
   "source": [
    "data_ids_nonlabeled = pd.read_csv(output_path, index_col=0)\n",
    "data_ids_nonlabeled"
   ],
   "metadata": {
    "collapsed": false
   }
  },
  {
   "cell_type": "code",
   "execution_count": 51,
   "outputs": [
    {
     "name": "stdout",
     "output_type": "stream",
     "text": [
      "Share of labeled examples: 0.0\n"
     ]
    }
   ],
   "source": [
    "data_ids_labeled, ratio = model.label(data_ids_nonlabeled)\n",
    "print(f\"Share of labeled examples: {ratio}\")"
   ],
   "metadata": {
    "collapsed": false
   }
  },
  {
   "cell_type": "code",
   "execution_count": 52,
   "outputs": [
    {
     "data": {
      "text/plain": "                                                      name  \\\n60                                         ПЕСОК ПРИРОДНЫЙ   \n62                                          ГРАВИЙ ФР 5*20   \n64                          Кислота терефталевая очищенная   \n68           Сода кальцинированная техническая марок А и Б   \n3150     Аллокин-альфа (Аллоферон), лиофилизат для приг...   \n4168     Витрина холодильная Ларь-бонета CORTINA 200 HT/СТ   \n2660251  Прицеп-комплекс тракторный для полива ПКП-4 «В...   \n2663444               Щелочные моющие средства NG Caus Eso   \n\n                                                     descr  pred_id  \\\n60       ПЕСОК ПРИРОДНЫЙ, Неорганический сыпучий матери...       -1   \n62       ГРАВИЙ ФР 5*20, Неорганический зернистый сыпуч...       -1   \n64       Кислота терефталевая очищенная, Для получения ...       -1   \n68       Сода кальцинированная техническая марок А и Б,...       -1   \n3150     Аллокин-альфа (Аллоферон), лиофилизат для приг...       -1   \n4168     Витрина холодильная Ларь-бонета CORTINA 200 HT...       -1   \n2660251  Прицеп-комплекс тракторный для полива ПКП-4 «В...       -1   \n2663444  Щелочные моющие средства NG Caus Eso, Щелочные...       -1   \n\n         pred_name  pred_proba  \n60              -1    0.031604  \n62              -1    0.032318  \n64              -1    0.031833  \n68              -1    0.041898  \n3150            -1    0.103080  \n4168            -1    0.073073  \n2660251         -1    0.306379  \n2663444         -1    0.032861  ",
      "text/html": "<div>\n<style scoped>\n    .dataframe tbody tr th:only-of-type {\n        vertical-align: middle;\n    }\n\n    .dataframe tbody tr th {\n        vertical-align: top;\n    }\n\n    .dataframe thead th {\n        text-align: right;\n    }\n</style>\n<table border=\"1\" class=\"dataframe\">\n  <thead>\n    <tr style=\"text-align: right;\">\n      <th></th>\n      <th>name</th>\n      <th>descr</th>\n      <th>pred_id</th>\n      <th>pred_name</th>\n      <th>pred_proba</th>\n    </tr>\n  </thead>\n  <tbody>\n    <tr>\n      <th>60</th>\n      <td>ПЕСОК ПРИРОДНЫЙ</td>\n      <td>ПЕСОК ПРИРОДНЫЙ, Неорганический сыпучий матери...</td>\n      <td>-1</td>\n      <td>-1</td>\n      <td>0.031604</td>\n    </tr>\n    <tr>\n      <th>62</th>\n      <td>ГРАВИЙ ФР 5*20</td>\n      <td>ГРАВИЙ ФР 5*20, Неорганический зернистый сыпуч...</td>\n      <td>-1</td>\n      <td>-1</td>\n      <td>0.032318</td>\n    </tr>\n    <tr>\n      <th>64</th>\n      <td>Кислота терефталевая очищенная</td>\n      <td>Кислота терефталевая очищенная, Для получения ...</td>\n      <td>-1</td>\n      <td>-1</td>\n      <td>0.031833</td>\n    </tr>\n    <tr>\n      <th>68</th>\n      <td>Сода кальцинированная техническая марок А и Б</td>\n      <td>Сода кальцинированная техническая марок А и Б,...</td>\n      <td>-1</td>\n      <td>-1</td>\n      <td>0.041898</td>\n    </tr>\n    <tr>\n      <th>3150</th>\n      <td>Аллокин-альфа (Аллоферон), лиофилизат для приг...</td>\n      <td>Аллокин-альфа (Аллоферон), лиофилизат для приг...</td>\n      <td>-1</td>\n      <td>-1</td>\n      <td>0.103080</td>\n    </tr>\n    <tr>\n      <th>4168</th>\n      <td>Витрина холодильная Ларь-бонета CORTINA 200 HT/СТ</td>\n      <td>Витрина холодильная Ларь-бонета CORTINA 200 HT...</td>\n      <td>-1</td>\n      <td>-1</td>\n      <td>0.073073</td>\n    </tr>\n    <tr>\n      <th>2660251</th>\n      <td>Прицеп-комплекс тракторный для полива ПКП-4 «В...</td>\n      <td>Прицеп-комплекс тракторный для полива ПКП-4 «В...</td>\n      <td>-1</td>\n      <td>-1</td>\n      <td>0.306379</td>\n    </tr>\n    <tr>\n      <th>2663444</th>\n      <td>Щелочные моющие средства NG Caus Eso</td>\n      <td>Щелочные моющие средства NG Caus Eso, Щелочные...</td>\n      <td>-1</td>\n      <td>-1</td>\n      <td>0.032861</td>\n    </tr>\n  </tbody>\n</table>\n</div>"
     },
     "execution_count": 52,
     "metadata": {},
     "output_type": "execute_result"
    }
   ],
   "source": [
    "data_ids_labeled[['name', 'descr', 'pred_id', 'pred_name', 'pred_proba']]"
   ],
   "metadata": {
    "collapsed": false
   }
  }
 ],
 "metadata": {
  "kernelspec": {
   "display_name": "Python 3",
   "language": "python",
   "name": "python3"
  },
  "language_info": {
   "codemirror_mode": {
    "name": "ipython",
    "version": 2
   },
   "file_extension": ".py",
   "mimetype": "text/x-python",
   "name": "python",
   "nbconvert_exporter": "python",
   "pygments_lexer": "ipython2",
   "version": "2.7.6"
  }
 },
 "nbformat": 4,
 "nbformat_minor": 0
}
